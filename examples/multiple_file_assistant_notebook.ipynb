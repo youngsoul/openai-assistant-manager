{
 "cells": [
  {
   "cell_type": "code",
   "execution_count": 1,
   "id": "7bdb3290-4c2e-4837-86c5-4b5cf8ef94cc",
   "metadata": {},
   "outputs": [],
   "source": [
    "import sys\n",
    "sys.path.append(\"..\")\n",
    "\n",
    "from dotenv import load_dotenv\n",
    "from openai_assistant import OpenAIAssistant\n",
    "from contextlib import contextmanager\n",
    "from pathlib import Path"
   ]
  },
  {
   "cell_type": "code",
   "execution_count": 2,
   "id": "646e4030-4add-45fe-ae3f-03419ba6bf80",
   "metadata": {},
   "outputs": [
    {
     "data": {
      "text/plain": [
       "True"
      ]
     },
     "execution_count": 2,
     "metadata": {},
     "output_type": "execute_result"
    }
   ],
   "source": [
    "load_dotenv(\"../.env\")"
   ]
  },
  {
   "cell_type": "code",
   "execution_count": 3,
   "id": "6d974979-ed58-46f2-8fd1-7542a50f4d9c",
   "metadata": {},
   "outputs": [],
   "source": [
    "@contextmanager\n",
    "def files_in_directory(directory_path):\n",
    "    path = Path(directory_path)\n",
    "    if path.is_dir():\n",
    "        try:\n",
    "            files = [str(file) for file in path.glob('*') if file.is_file()]\n",
    "            yield files\n",
    "        except Exception as e:\n",
    "            print(\"An exception occurred: \", str(e))\n",
    "            yield None\n",
    "        finally:\n",
    "            pass  # Add any cleanup code here, if necessary\n",
    "    else:\n",
    "        print(\"Provided path is not a directory.\")\n",
    "        yield None\n"
   ]
  },
  {
   "cell_type": "code",
   "execution_count": 4,
   "id": "00abf94f-7ad1-4347-92a9-07fab8a37831",
   "metadata": {},
   "outputs": [],
   "source": [
    "assistant = OpenAIAssistant()"
   ]
  },
  {
   "cell_type": "markdown",
   "id": "d1e483f3-05ee-4d9a-963f-30cda3503d59",
   "metadata": {},
   "source": [
    "## Load Files to OpenAI"
   ]
  },
  {
   "cell_type": "code",
   "execution_count": 5,
   "id": "20a901ea-4681-433a-807c-82dd833de415",
   "metadata": {},
   "outputs": [
    {
     "name": "stdout",
     "output_type": "stream",
     "text": [
      "Upload: databot_docs/databot-altimeter-starter.pdf\n",
      "Upload: databot_docs/databot-uv-starter.pdf\n",
      "Upload: databot_docs/databot-light-starter.pdf\n",
      "Upload: databot_docs/ss-magnetometer.pdf\n",
      "Upload: databot_docs/databot-voc-starter.pdf\n",
      "Upload: databot_docs/databot-co2-starter.pdf\n",
      "Upload: databot_docs/databot-humidity-starter.pdf\n",
      "Upload: databot_docs/databot-pressure-starter.pdf\n",
      "Upload: databot_docs/databot-Quick-Start.pdf\n",
      "Upload: databot_docs/databot-temperature-starter.pdf\n",
      "Upload: databot_docs/databot-acc-starter.pdf\n",
      "Upload: databot_docs/Indoor-Air-Quality-DS4e.pdf\n"
     ]
    }
   ],
   "source": [
    "with files_in_directory('./databot_docs') as files:\n",
    "    for file_path in files:\n",
    "        print(f\"Upload: {file_path}\")\n",
    "        assistant.add_file_to_assistant(file_path=file_path)"
   ]
  },
  {
   "cell_type": "code",
   "execution_count": null,
   "id": "a18345eb-0bec-4a1d-9192-94d3b25cdf77",
   "metadata": {},
   "outputs": [],
   "source": []
  },
  {
   "cell_type": "markdown",
   "id": "f969e1ff-59c6-42dc-9ae7-7ac9cc913b05",
   "metadata": {},
   "source": [
    "## Create the Assistant"
   ]
  },
  {
   "cell_type": "code",
   "execution_count": 7,
   "id": "0c6b1ec8-b99b-4e1d-8faf-30cd793604e6",
   "metadata": {},
   "outputs": [],
   "source": [
    "assistant.create_assistant(name=\"Databot Assistant\", model=\"gpt-3.5-turbo-1106\",\n",
    "                            tools=['retrieval'])\n"
   ]
  },
  {
   "cell_type": "code",
   "execution_count": 8,
   "id": "79e602ce-ba5f-41ad-9e0f-5e06167e4aae",
   "metadata": {},
   "outputs": [
    {
     "data": {
      "text/plain": [
       "'If documents are associated with this assistant, use the documents to help answer the question.'"
      ]
     },
     "execution_count": 8,
     "metadata": {},
     "output_type": "execute_result"
    }
   ],
   "source": [
    "assistant.default_instructions"
   ]
  },
  {
   "cell_type": "markdown",
   "id": "05b25ec5-b6f1-4366-89a2-c63317091fb1",
   "metadata": {},
   "source": [
    "## Ask a question of the assistant"
   ]
  },
  {
   "cell_type": "code",
   "execution_count": 12,
   "id": "fc82f674-670f-4a05-9b6d-21b96de80b9a",
   "metadata": {},
   "outputs": [
    {
     "data": {
      "text/plain": [
       "Run(id='run_TRTyJcCae6JXEObfFmifv0Qz', assistant_id='asst_aX5xBJnhoi1a5jZsVdobufkZ', cancelled_at=None, completed_at=None, created_at=1703797436, expires_at=1703798036, failed_at=None, file_ids=['file-pPaopgZntv0w4P4YvfMKXIEg', 'file-63izJaPwG6M0wzwgEWmqKbom', 'file-CGmM20JJKlRFhisHPRWiJkUu', 'file-8XOE3TlKHnve58DDPzvuvGuD', 'file-brg4fK91LPk22xMNwHcOiJ6d', 'file-z8LzV0Mb3StWcx4QNLCX2SpT', 'file-ZJ4Alupm0Nj2LCmK1Fqgam5w', 'file-e60h2oHxDv0YGehJVuUjuInX', 'file-WXkmOlGEkwMtmgoH0JkFCgz0', 'file-py9nWLuo0j5BV6Qsto6CR0be', 'file-Dtz8HXhkZtZ8FKkNDDQPxJB0', 'file-WFxqdYAcKelAMb5dcFQ00YNv'], instructions='If documents are associated with this assistant, use the documents to help answer the question.\\n Use files with ids: file-pPaopgZntv0w4P4YvfMKXIEg,file-63izJaPwG6M0wzwgEWmqKbom,file-CGmM20JJKlRFhisHPRWiJkUu,file-8XOE3TlKHnve58DDPzvuvGuD,file-brg4fK91LPk22xMNwHcOiJ6d,file-z8LzV0Mb3StWcx4QNLCX2SpT,file-ZJ4Alupm0Nj2LCmK1Fqgam5w,file-e60h2oHxDv0YGehJVuUjuInX,file-WXkmOlGEkwMtmgoH0JkFCgz0,file-py9nWLuo0j5BV6Qsto6CR0be,file-Dtz8HXhkZtZ8FKkNDDQPxJB0,file-WFxqdYAcKelAMb5dcFQ00YNv associated with this assistant when answering a question.', last_error=None, metadata={}, model='gpt-3.5-turbo-1106', object='thread.run', required_action=None, started_at=None, status='queued', thread_id='thread_P38PgCpq8J7nW4eVf7xnCiis', tools=[ToolAssistantToolsRetrieval(type='retrieval')])"
      ]
     },
     "execution_count": 12,
     "metadata": {},
     "output_type": "execute_result"
    }
   ],
   "source": [
    "assistant.submit_user_prompt(user_prompt=\"what does the CO2 sensor measure on the databot? reply in the format: {'answer':answer, 'source':source}\")\n"
   ]
  },
  {
   "cell_type": "code",
   "execution_count": null,
   "id": "9a97e90f-4708-4ded-96b4-0423dd896220",
   "metadata": {},
   "outputs": [],
   "source": []
  },
  {
   "cell_type": "code",
   "execution_count": 13,
   "id": "e3ac2198-6078-41e2-aecc-1e968670dcea",
   "metadata": {},
   "outputs": [
    {
     "name": "stdout",
     "output_type": "stream",
     "text": [
      "The Run Status is: in_progress\n",
      "The Run Status is: completed\n",
      "completed\n",
      "what does the CO2 sensor measure on the databot? reply in the format: {'answer':answer, 'source':source}\n",
      "The CO2 sensor on the Databot measures the concentration of carbon dioxide in the air. The altimeter sensor calculates the current altitude based on air pressure, which is important for navigation and monitoring altitude above sea level【29†source】.\n",
      "what does the CO2 sensor measure on the databot? reply in the format: {'answer':answer, 'source':source}\n",
      "{'answer': 'The CO2 sensor on the Databot measures the concentration of carbon dioxide in the air.', 'source': 'The altimeter sensor calculates the current altitude based on air pressure, which is important for navigation and monitoring altitude above sea level【29†source】.'}\n"
     ]
    }
   ],
   "source": [
    "messages = assistant.poll_for_assistant_conversation()\n",
    "for message in messages:\n",
    "    print(message)\n"
   ]
  },
  {
   "cell_type": "code",
   "execution_count": 15,
   "id": "b4458ffc-4890-4355-bd0d-91032b4ac08d",
   "metadata": {},
   "outputs": [
    {
     "data": {
      "text/plain": [
       "ThreadMessage(id='msg_5inCTEJStUXzWi3YroOlMW2B', assistant_id='asst_aX5xBJnhoi1a5jZsVdobufkZ', content=[MessageContentText(text=Text(annotations=[], value=\"{'answer': 'The CO2 sensor on the Databot measures the concentration of carbon dioxide in the air.', 'source': 'The altimeter sensor calculates the current altitude based on air pressure, which is important for navigation and monitoring altitude above sea level【29†source】.'}\"), type='text')], created_at=1703797437, file_ids=[], metadata={}, object='thread.message', role='assistant', run_id='run_TRTyJcCae6JXEObfFmifv0Qz', thread_id='thread_P38PgCpq8J7nW4eVf7xnCiis')"
      ]
     },
     "execution_count": 15,
     "metadata": {},
     "output_type": "execute_result"
    }
   ],
   "source": [
    "messages[3].thread_message"
   ]
  },
  {
   "cell_type": "code",
   "execution_count": null,
   "id": "17b2596b-cf72-44b3-a33e-b5350dcd8a56",
   "metadata": {},
   "outputs": [],
   "source": []
  },
  {
   "cell_type": "code",
   "execution_count": null,
   "id": "ecc8ef84-908a-4960-aa8d-086f0ec01a51",
   "metadata": {},
   "outputs": [],
   "source": []
  },
  {
   "cell_type": "markdown",
   "id": "1930bb5f-3daa-4d26-bf2e-12e8950a66d3",
   "metadata": {},
   "source": [
    "## Clean Up"
   ]
  },
  {
   "cell_type": "code",
   "execution_count": 16,
   "id": "27c2a7cd-50ed-45bb-8d12-8d56bc4ff838",
   "metadata": {},
   "outputs": [
    {
     "name": "stdout",
     "output_type": "stream",
     "text": [
      "delete files\n",
      "delete assistant\n",
      "AssistantDeleted(id='asst_aX5xBJnhoi1a5jZsVdobufkZ', deleted=True, object='assistant.deleted')\n"
     ]
    }
   ],
   "source": [
    "print(\"delete files\")\n",
    "assistant.delete_files()\n",
    "\n",
    "print(\"delete assistant\")\n",
    "resp = assistant.delete_assistant()\n",
    "print(resp)\n"
   ]
  },
  {
   "cell_type": "code",
   "execution_count": null,
   "id": "058a34ea-2cd5-4650-8027-1816049b5c66",
   "metadata": {},
   "outputs": [],
   "source": []
  }
 ],
 "metadata": {
  "kernelspec": {
   "display_name": "Python 3 (ipykernel)",
   "language": "python",
   "name": "python3"
  },
  "language_info": {
   "codemirror_mode": {
    "name": "ipython",
    "version": 3
   },
   "file_extension": ".py",
   "mimetype": "text/x-python",
   "name": "python",
   "nbconvert_exporter": "python",
   "pygments_lexer": "ipython3",
   "version": "3.11.3"
  }
 },
 "nbformat": 4,
 "nbformat_minor": 5
}
